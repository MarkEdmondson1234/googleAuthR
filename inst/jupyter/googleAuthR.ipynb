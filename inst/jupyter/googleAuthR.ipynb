{
 "cells": [
  {
   "cell_type": "markdown",
   "metadata": {},
   "source": [
    "# googleAuthR packages on Jupyter Introduction\n",
    "\n",
    "An R kernal is now available on the Google Cloud Platform, with some preinstalled R packages including googleAuthR, googleComputeEngineR, googleCloudStorageR and googleAnalyticsR.  This notebook demo's how to use them in this environment.\n",
    "\n",
    "The R version and packages installed by default can be seen via the below R commands:"
   ]
  },
  {
   "cell_type": "code",
   "execution_count": 1,
   "metadata": {},
   "outputs": [
    {
     "data": {
      "text/plain": [
       "R version 3.5.1 (2018-07-02)\n",
       "Platform: x86_64-pc-linux-gnu (64-bit)\n",
       "Running under: Debian GNU/Linux 9 (stretch)\n",
       "\n",
       "Matrix products: default\n",
       "BLAS: /opt/anaconda3/lib/R/lib/libRblas.so\n",
       "LAPACK: /opt/anaconda3/lib/R/lib/libRlapack.so\n",
       "\n",
       "locale:\n",
       " [1] LC_CTYPE=en_US.UTF-8       LC_NUMERIC=C              \n",
       " [3] LC_TIME=en_US.UTF-8        LC_COLLATE=en_US.UTF-8    \n",
       " [5] LC_MONETARY=en_US.UTF-8    LC_MESSAGES=en_US.UTF-8   \n",
       " [7] LC_PAPER=en_US.UTF-8       LC_NAME=C                 \n",
       " [9] LC_ADDRESS=C               LC_TELEPHONE=C            \n",
       "[11] LC_MEASUREMENT=en_US.UTF-8 LC_IDENTIFICATION=C       \n",
       "\n",
       "attached base packages:\n",
       "[1] stats     graphics  grDevices utils     datasets  methods   base     \n",
       "\n",
       "other attached packages:\n",
       "[1] RevoUtils_11.0.1     RevoUtilsMath_11.0.0\n",
       "\n",
       "loaded via a namespace (and not attached):\n",
       " [1] Rcpp_0.12.18    digest_0.6.15   crayon_1.3.4    IRdisplay_0.5.0\n",
       " [5] repr_0.15.0     jsonlite_1.5    magrittr_1.5    evaluate_0.11  \n",
       " [9] stringi_1.2.4   uuid_0.1-2      IRkernel_0.8.11 tools_3.5.1    \n",
       "[13] stringr_1.3.1   compiler_3.5.1  base64enc_0.1-3 pbdZMQ_0.3-3   \n",
       "[17] htmltools_0.3.6"
      ]
     },
     "metadata": {},
     "output_type": "display_data"
    }
   ],
   "source": [
    "sessionInfo()\n",
    "packages <- as.data.frame(installed.packages()[,c(1,3:4)])"
   ]
  },
  {
   "cell_type": "markdown",
   "metadata": {},
   "source": [
    "## Authentication with googleCloudStorageR and googleComputeEngineR\n",
    "\n",
    "Since the Jupyter notebook is running on a GCP instance, then you can reuse the authentication used to launch the instance itself by using `googleAuthR::gar_gce_auth()`.   This will create an authentication token that by default with be named `.httr-oauth` in the working directory.  You may want to change this if working with other Google APIs.\n",
    "\n",
    "You can ignore warnings about travis arguments as that is gone in version 0.3 of `googleComputeEngineR` "
   ]
  },
  {
   "cell_type": "code",
   "execution_count": 2,
   "metadata": {},
   "outputs": [
    {
     "name": "stderr",
     "output_type": "stream",
     "text": [
      "Token cache file: gce.oauth\n",
      "Warning message in googleAuthR::gar_attach_auto_auth(\"https://www.googleapis.com/auth/cloud-platform\", :\n",
      "“travis_environment_var argument is now unsupported and does nothing”2019-06-07 19:07:13> No environment argument found, looked in GCE_AUTH_FILE\n"
     ]
    }
   ],
   "source": [
    "options(\"googleAuthR.httr_oauth_cache\" = \"gce.oauth\")\n",
    "googleAuthR::gar_gce_auth()\n",
    "library(googleComputeEngineR)"
   ]
  },
  {
   "cell_type": "code",
   "execution_count": 3,
   "metadata": {},
   "outputs": [
    {
     "name": "stderr",
     "output_type": "stream",
     "text": [
      "Set default project name to 'mark-edmondson-gde'\n",
      "Set default zone name to 'europe-west1-b'\n"
     ]
    }
   ],
   "source": [
    "# replace with your current project\n",
    "gce_global_project(\"mark-edmondson-gde\")\n",
    "# replace with your desired zone\n",
    "gce_global_zone(\"europe-west1-b\")"
   ]
  },
  {
   "cell_type": "code",
   "execution_count": 4,
   "metadata": {},
   "outputs": [
    {
     "data": {
      "text/html": [
       "<ol class=list-inline>\n",
       "\t<li>'cron-master'</li>\n",
       "\t<li>'datalabvm-mark'</li>\n",
       "\t<li>'mark-rstudio'</li>\n",
       "\t<li>'mc-server'</li>\n",
       "\t<li>'my-server1'</li>\n",
       "\t<li>'my-server2'</li>\n",
       "\t<li>'r-20190607-190450'</li>\n",
       "\t<li>'rstudio-server-6'</li>\n",
       "\t<li>'rstudio-server-7'</li>\n",
       "\t<li>'rstudio-test'</li>\n",
       "\t<li>'scheduler'</li>\n",
       "\t<li>'slave-1'</li>\n",
       "\t<li>'test-container'</li>\n",
       "\t<li>'test-container-nodelete'</li>\n",
       "\t<li>'test-disk-size'</li>\n",
       "</ol>\n"
      ],
      "text/latex": [
       "\\begin{enumerate*}\n",
       "\\item 'cron-master'\n",
       "\\item 'datalabvm-mark'\n",
       "\\item 'mark-rstudio'\n",
       "\\item 'mc-server'\n",
       "\\item 'my-server1'\n",
       "\\item 'my-server2'\n",
       "\\item 'r-20190607-190450'\n",
       "\\item 'rstudio-server-6'\n",
       "\\item 'rstudio-server-7'\n",
       "\\item 'rstudio-test'\n",
       "\\item 'scheduler'\n",
       "\\item 'slave-1'\n",
       "\\item 'test-container'\n",
       "\\item 'test-container-nodelete'\n",
       "\\item 'test-disk-size'\n",
       "\\end{enumerate*}\n"
      ],
      "text/markdown": [
       "1. 'cron-master'\n",
       "2. 'datalabvm-mark'\n",
       "3. 'mark-rstudio'\n",
       "4. 'mc-server'\n",
       "5. 'my-server1'\n",
       "6. 'my-server2'\n",
       "7. 'r-20190607-190450'\n",
       "8. 'rstudio-server-6'\n",
       "9. 'rstudio-server-7'\n",
       "10. 'rstudio-test'\n",
       "11. 'scheduler'\n",
       "12. 'slave-1'\n",
       "13. 'test-container'\n",
       "14. 'test-container-nodelete'\n",
       "15. 'test-disk-size'\n",
       "\n",
       "\n"
      ],
      "text/plain": [
       " [1] \"cron-master\"             \"datalabvm-mark\"         \n",
       " [3] \"mark-rstudio\"            \"mc-server\"              \n",
       " [5] \"my-server1\"              \"my-server2\"             \n",
       " [7] \"r-20190607-190450\"       \"rstudio-server-6\"       \n",
       " [9] \"rstudio-server-7\"        \"rstudio-test\"           \n",
       "[11] \"scheduler\"               \"slave-1\"                \n",
       "[13] \"test-container\"          \"test-container-nodelete\"\n",
       "[15] \"test-disk-size\"         "
      ]
     },
     "metadata": {},
     "output_type": "display_data"
    }
   ],
   "source": [
    "vms <- gce_list_instances()\n",
    "\n",
    "# this causes an output error at the moment related to displaying nested data.frames https://github.com/IRkernel/repr/issues/97\n",
    "# vms\n",
    "\n",
    "# just show the VM names instead\n",
    "vms$items$name"
   ]
  },
  {
   "cell_type": "code",
   "execution_count": 5,
   "metadata": {},
   "outputs": [
    {
     "name": "stderr",
     "output_type": "stream",
     "text": [
      "2019-06-07 19:07:14> No environment argument found, looked in GCS_AUTH_FILE\n"
     ]
    }
   ],
   "source": [
    "library(googleCloudStorageR)"
   ]
  },
  {
   "cell_type": "code",
   "execution_count": 6,
   "metadata": {},
   "outputs": [
    {
     "name": "stderr",
     "output_type": "stream",
     "text": [
      "Set default bucket name to 'mark-edmondson-public-read'\n"
     ]
    }
   ],
   "source": [
    "#set your default bucket\n",
    "gcs_global_bucket(\"mark-edmondson-public-read\")"
   ]
  },
  {
   "cell_type": "code",
   "execution_count": 7,
   "metadata": {},
   "outputs": [
    {
     "data": {
      "text/html": [
       "<table>\n",
       "<thead><tr><th scope=col>id</th><th scope=col>selfLink</th><th scope=col>name</th><th scope=col>bucket</th><th scope=col>generation</th><th scope=col>metageneration</th><th scope=col>contentType</th><th scope=col>timeCreated</th><th scope=col>updated</th><th scope=col>storageClass</th><th scope=col>timeStorageClassUpdated</th><th scope=col>size</th><th scope=col>md5Hash</th><th scope=col>mediaLink</th><th scope=col>crc32c</th><th scope=col>etag</th><th scope=col>componentCount</th><th scope=col>contentLanguage</th></tr></thead>\n",
       "<tbody>\n",
       "\t<tr><td><span style=white-space:pre-wrap>mark-edmondson-public-read/Test-ga-model-twitter-upload-with-image.html/1552658000005912                                       </span>                                                                                    </td><td><span style=white-space:pre-wrap>https://www.googleapis.com/storage/v1/b/mark-edmondson-public-read/o/Test-ga-model-twitter-upload-with-image.html                                               </span>                                                   </td><td><span style=white-space:pre-wrap>Test-ga-model-twitter-upload-with-image.html                                       </span>                                                                                                                                </td><td>mark-edmondson-public-read                                                                                                                                                                                                                                 </td><td>1552658000005912                                                                                                                                                                                                                                           </td><td>1                                                                                                                                                                                                                                                          </td><td><span style=white-space:pre-wrap>text/html               </span>                                                                                                                                                                                           </td><td>2019-03-15 13:53:20                                                                                                                                                                                                                                        </td><td>2019-03-15 13:53:20                                                                                                                                                                                                                                        </td><td>REGIONAL                                                                                                                                                                                                                                                   </td><td>2019-03-15T13:53:20.005Z                                                                                                                                                                                                                                   </td><td><span style=white-space:pre-wrap>64.2 Kb  </span>                                                                                                                                                                                                          </td><td>J9M1jmxLWPz+fslPHJLhqA==                                                                                                                                                                                                                                   </td><td><span style=white-space:pre-wrap>https://www.googleapis.com/download/storage/v1/b/mark-edmondson-public-read/o/Test-ga-model-twitter-upload-with-image.html?generation=1552658000005912&amp;alt=media                                               </span></td><td>ymiDOA==                                                                                                                                                                                                                                                   </td><td>CJiWseSlhOECEAE=                                                                                                                                                                                                                                           </td><td>NA                                                                                                                                                                                                                                                         </td><td>NA                                                                                                                                                                                                                                                         </td></tr>\n",
       "\t<tr><td><span style=white-space:pre-wrap>mark-edmondson-public-read/Test-ga-model-twitter-upload-with-image/lib/crosstalk-1.0.0/css/crosstalk.css/1552658000182375      </span>                                                                                    </td><td><span style=white-space:pre-wrap>https://www.googleapis.com/storage/v1/b/mark-edmondson-public-read/o/Test-ga-model-twitter-upload-with-image%2Flib%2Fcrosstalk-1.0.0%2Fcss%2Fcrosstalk.css      </span>                                                   </td><td><span style=white-space:pre-wrap>Test-ga-model-twitter-upload-with-image/lib/crosstalk-1.0.0/css/crosstalk.css      </span>                                                                                                                                </td><td>mark-edmondson-public-read                                                                                                                                                                                                                                 </td><td>1552658000182375                                                                                                                                                                                                                                           </td><td>1                                                                                                                                                                                                                                                          </td><td><span style=white-space:pre-wrap>text/css                </span>                                                                                                                                                                                           </td><td>2019-03-15 13:53:20                                                                                                                                                                                                                                        </td><td>2019-03-15 13:53:20                                                                                                                                                                                                                                        </td><td>REGIONAL                                                                                                                                                                                                                                                   </td><td>2019-03-15T13:53:20.182Z                                                                                                                                                                                                                                   </td><td>784 bytes                                                                                                                                                                                                                                                  </td><td>oDuKOjPrimnTegN0a6krTw==                                                                                                                                                                                                                                   </td><td><span style=white-space:pre-wrap>https://www.googleapis.com/download/storage/v1/b/mark-edmondson-public-read/o/Test-ga-model-twitter-upload-with-image%2Flib%2Fcrosstalk-1.0.0%2Fcss%2Fcrosstalk.css?generation=1552658000182375&amp;alt=media      </span></td><td>tLLBSg==                                                                                                                                                                                                                                                   </td><td>COf4u+SlhOECEAE=                                                                                                                                                                                                                                           </td><td>NA                                                                                                                                                                                                                                                         </td><td>NA                                                                                                                                                                                                                                                         </td></tr>\n",
       "\t<tr><td><span style=white-space:pre-wrap>mark-edmondson-public-read/Test-ga-model-twitter-upload-with-image/lib/crosstalk-1.0.0/js/crosstalk.js/1552658000439231        </span>                                                                                    </td><td><span style=white-space:pre-wrap>https://www.googleapis.com/storage/v1/b/mark-edmondson-public-read/o/Test-ga-model-twitter-upload-with-image%2Flib%2Fcrosstalk-1.0.0%2Fjs%2Fcrosstalk.js        </span>                                                   </td><td><span style=white-space:pre-wrap>Test-ga-model-twitter-upload-with-image/lib/crosstalk-1.0.0/js/crosstalk.js        </span>                                                                                                                                </td><td>mark-edmondson-public-read                                                                                                                                                                                                                                 </td><td>1552658000439231                                                                                                                                                                                                                                           </td><td>1                                                                                                                                                                                                                                                          </td><td><span style=white-space:pre-wrap>application/javascript  </span>                                                                                                                                                                                           </td><td>2019-03-15 13:53:20                                                                                                                                                                                                                                        </td><td>2019-03-15 13:53:20                                                                                                                                                                                                                                        </td><td>REGIONAL                                                                                                                                                                                                                                                   </td><td>2019-03-15T13:53:20.438Z                                                                                                                                                                                                                                   </td><td><span style=white-space:pre-wrap>47.9 Kb  </span>                                                                                                                                                                                                          </td><td>OaL1EkVrmMgk8SyFehGOpg==                                                                                                                                                                                                                                   </td><td><span style=white-space:pre-wrap>https://www.googleapis.com/download/storage/v1/b/mark-edmondson-public-read/o/Test-ga-model-twitter-upload-with-image%2Flib%2Fcrosstalk-1.0.0%2Fjs%2Fcrosstalk.js?generation=1552658000439231&amp;alt=media        </span></td><td>MqRW4A==                                                                                                                                                                                                                                                   </td><td>CL/Py+SlhOECEAE=                                                                                                                                                                                                                                           </td><td>NA                                                                                                                                                                                                                                                         </td><td>NA                                                                                                                                                                                                                                                         </td></tr>\n",
       "\t<tr><td><span style=white-space:pre-wrap>mark-edmondson-public-read/Test-ga-model-twitter-upload-with-image/lib/crosstalk-1.0.0/js/crosstalk.js.map/1552658000704777    </span>                                                                                    </td><td><span style=white-space:pre-wrap>https://www.googleapis.com/storage/v1/b/mark-edmondson-public-read/o/Test-ga-model-twitter-upload-with-image%2Flib%2Fcrosstalk-1.0.0%2Fjs%2Fcrosstalk.js.map    </span>                                                   </td><td><span style=white-space:pre-wrap>Test-ga-model-twitter-upload-with-image/lib/crosstalk-1.0.0/js/crosstalk.js.map    </span>                                                                                                                                </td><td>mark-edmondson-public-read                                                                                                                                                                                                                                 </td><td>1552658000704777                                                                                                                                                                                                                                           </td><td>1                                                                                                                                                                                                                                                          </td><td>application/octet-stream                                                                                                                                                                                                                                   </td><td>2019-03-15 13:53:20                                                                                                                                                                                                                                        </td><td>2019-03-15 13:53:20                                                                                                                                                                                                                                        </td><td>REGIONAL                                                                                                                                                                                                                                                   </td><td>2019-03-15T13:53:20.704Z                                                                                                                                                                                                                                   </td><td><span style=white-space:pre-wrap>53.1 Kb  </span>                                                                                                                                                                                                          </td><td>od47qHdhiqPR4D2CRc7xjw==                                                                                                                                                                                                                                   </td><td><span style=white-space:pre-wrap>https://www.googleapis.com/download/storage/v1/b/mark-edmondson-public-read/o/Test-ga-model-twitter-upload-with-image%2Flib%2Fcrosstalk-1.0.0%2Fjs%2Fcrosstalk.js.map?generation=1552658000704777&amp;alt=media    </span></td><td>/VQ3Aw==                                                                                                                                                                                                                                                   </td><td>CInq2+SlhOECEAE=                                                                                                                                                                                                                                           </td><td>NA                                                                                                                                                                                                                                                         </td><td>NA                                                                                                                                                                                                                                                         </td></tr>\n",
       "\t<tr><td><span style=white-space:pre-wrap>mark-edmondson-public-read/Test-ga-model-twitter-upload-with-image/lib/crosstalk-1.0.0/js/crosstalk.min.js/1552658000930171    </span>                                                                                    </td><td><span style=white-space:pre-wrap>https://www.googleapis.com/storage/v1/b/mark-edmondson-public-read/o/Test-ga-model-twitter-upload-with-image%2Flib%2Fcrosstalk-1.0.0%2Fjs%2Fcrosstalk.min.js    </span>                                                   </td><td><span style=white-space:pre-wrap>Test-ga-model-twitter-upload-with-image/lib/crosstalk-1.0.0/js/crosstalk.min.js    </span>                                                                                                                                </td><td>mark-edmondson-public-read                                                                                                                                                                                                                                 </td><td>1552658000930171                                                                                                                                                                                                                                           </td><td>1                                                                                                                                                                                                                                                          </td><td><span style=white-space:pre-wrap>application/javascript  </span>                                                                                                                                                                                           </td><td>2019-03-15 13:53:20                                                                                                                                                                                                                                        </td><td>2019-03-15 13:53:20                                                                                                                                                                                                                                        </td><td>REGIONAL                                                                                                                                                                                                                                                   </td><td>2019-03-15T13:53:20.929Z                                                                                                                                                                                                                                   </td><td><span style=white-space:pre-wrap>18.7 Kb  </span>                                                                                                                                                                                                          </td><td>EW8bKZ05MSMDor4rWnrF2A==                                                                                                                                                                                                                                   </td><td><span style=white-space:pre-wrap>https://www.googleapis.com/download/storage/v1/b/mark-edmondson-public-read/o/Test-ga-model-twitter-upload-with-image%2Flib%2Fcrosstalk-1.0.0%2Fjs%2Fcrosstalk.min.js?generation=1552658000930171&amp;alt=media    </span></td><td>JFMm1g==                                                                                                                                                                                                                                                   </td><td>CPvK6eSlhOECEAE=                                                                                                                                                                                                                                           </td><td>NA                                                                                                                                                                                                                                                         </td><td>NA                                                                                                                                                                                                                                                         </td></tr>\n",
       "\t<tr><td>mark-edmondson-public-read/Test-ga-model-twitter-upload-with-image/lib/crosstalk-1.0.0/js/crosstalk.min.js.map/1552658001195578                                                                                    </td><td>https://www.googleapis.com/storage/v1/b/mark-edmondson-public-read/o/Test-ga-model-twitter-upload-with-image%2Flib%2Fcrosstalk-1.0.0%2Fjs%2Fcrosstalk.min.js.map                                                   </td><td>Test-ga-model-twitter-upload-with-image/lib/crosstalk-1.0.0/js/crosstalk.min.js.map                                                                                                                                </td><td>mark-edmondson-public-read                                                                                                                                                                                         </td><td>1552658001195578                                                                                                                                                                                                   </td><td>1                                                                                                                                                                                                                  </td><td>application/octet-stream                                                                                                                                                                                           </td><td>2019-03-15 13:53:21                                                                                                                                                                                                </td><td>2019-03-15 13:53:21                                                                                                                                                                                                </td><td>REGIONAL                                                                                                                                                                                                           </td><td>2019-03-15T13:53:21.195Z                                                                                                                                                                                           </td><td><span style=white-space:pre-wrap>49.1 Kb  </span>                                                                                                                                                                  </td><td>tdA/yG0cLf8Pb8osbxbD6Q==                                                                                                                                                                                           </td><td>https://www.googleapis.com/download/storage/v1/b/mark-edmondson-public-read/o/Test-ga-model-twitter-upload-with-image%2Flib%2Fcrosstalk-1.0.0%2Fjs%2Fcrosstalk.min.js.map?generation=1552658001195578&amp;alt=media</td><td>/mNV1w==                                                                                                                                                                                                           </td><td>CLrk+eSlhOECEAE=                                                                                                                                                                                                   </td><td>NA                                                                                                                                                                                                                 </td><td>NA                                                                                                                                                                                                                 </td></tr>\n",
       "</tbody>\n",
       "</table>\n"
      ],
      "text/latex": [
       "\\begin{tabular}{r|llllllllllllllllll}\n",
       " id & selfLink & name & bucket & generation & metageneration & contentType & timeCreated & updated & storageClass & timeStorageClassUpdated & size & md5Hash & mediaLink & crc32c & etag & componentCount & contentLanguage\\\\\n",
       "\\hline\n",
       "\t mark-edmondson-public-read/Test-ga-model-twitter-upload-with-image.html/1552658000005912                                                                                                                          & https://www.googleapis.com/storage/v1/b/mark-edmondson-public-read/o/Test-ga-model-twitter-upload-with-image.html                                                                                                 & Test-ga-model-twitter-upload-with-image.html                                                                                                                                                                      & mark-edmondson-public-read                                                                                                                                                                                        & 1552658000005912                                                                                                                                                                                                  & 1                                                                                                                                                                                                                 & text/html                                                                                                                                                                                                         & 2019-03-15 13:53:20                                                                                                                                                                                               & 2019-03-15 13:53:20                                                                                                                                                                                               & REGIONAL                                                                                                                                                                                                          & 2019-03-15T13:53:20.005Z                                                                                                                                                                                          & 64.2 Kb                                                                                                                                                                                                           & J9M1jmxLWPz+fslPHJLhqA==                                                                                                                                                                                          & https://www.googleapis.com/download/storage/v1/b/mark-edmondson-public-read/o/Test-ga-model-twitter-upload-with-image.html?generation=1552658000005912\\&alt=media                                                & ymiDOA==                                                                                                                                                                                                          & CJiWseSlhOECEAE=                                                                                                                                                                                                  & NA                                                                                                                                                                                                                & NA                                                                                                                                                                                                               \\\\\n",
       "\t mark-edmondson-public-read/Test-ga-model-twitter-upload-with-image/lib/crosstalk-1.0.0/css/crosstalk.css/1552658000182375                                                                                                 & https://www.googleapis.com/storage/v1/b/mark-edmondson-public-read/o/Test-ga-model-twitter-upload-with-image\\%2Flib\\%2Fcrosstalk-1.0.0\\%2Fcss\\%2Fcrosstalk.css                                                        & Test-ga-model-twitter-upload-with-image/lib/crosstalk-1.0.0/css/crosstalk.css                                                                                                                                             & mark-edmondson-public-read                                                                                                                                                                                                & 1552658000182375                                                                                                                                                                                                          & 1                                                                                                                                                                                                                         & text/css                                                                                                                                                                                                                  & 2019-03-15 13:53:20                                                                                                                                                                                                       & 2019-03-15 13:53:20                                                                                                                                                                                                       & REGIONAL                                                                                                                                                                                                                  & 2019-03-15T13:53:20.182Z                                                                                                                                                                                                  & 784 bytes                                                                                                                                                                                                                 & oDuKOjPrimnTegN0a6krTw==                                                                                                                                                                                                  & https://www.googleapis.com/download/storage/v1/b/mark-edmondson-public-read/o/Test-ga-model-twitter-upload-with-image\\%2Flib\\%2Fcrosstalk-1.0.0\\%2Fcss\\%2Fcrosstalk.css?generation=1552658000182375\\&alt=media       & tLLBSg==                                                                                                                                                                                                                  & COf4u+SlhOECEAE=                                                                                                                                                                                                          & NA                                                                                                                                                                                                                        & NA                                                                                                                                                                                                                       \\\\\n",
       "\t mark-edmondson-public-read/Test-ga-model-twitter-upload-with-image/lib/crosstalk-1.0.0/js/crosstalk.js/1552658000439231                                                                                                   & https://www.googleapis.com/storage/v1/b/mark-edmondson-public-read/o/Test-ga-model-twitter-upload-with-image\\%2Flib\\%2Fcrosstalk-1.0.0\\%2Fjs\\%2Fcrosstalk.js                                                          & Test-ga-model-twitter-upload-with-image/lib/crosstalk-1.0.0/js/crosstalk.js                                                                                                                                               & mark-edmondson-public-read                                                                                                                                                                                                & 1552658000439231                                                                                                                                                                                                          & 1                                                                                                                                                                                                                         & application/javascript                                                                                                                                                                                                    & 2019-03-15 13:53:20                                                                                                                                                                                                       & 2019-03-15 13:53:20                                                                                                                                                                                                       & REGIONAL                                                                                                                                                                                                                  & 2019-03-15T13:53:20.438Z                                                                                                                                                                                                  & 47.9 Kb                                                                                                                                                                                                                   & OaL1EkVrmMgk8SyFehGOpg==                                                                                                                                                                                                  & https://www.googleapis.com/download/storage/v1/b/mark-edmondson-public-read/o/Test-ga-model-twitter-upload-with-image\\%2Flib\\%2Fcrosstalk-1.0.0\\%2Fjs\\%2Fcrosstalk.js?generation=1552658000439231\\&alt=media         & MqRW4A==                                                                                                                                                                                                                  & CL/Py+SlhOECEAE=                                                                                                                                                                                                          & NA                                                                                                                                                                                                                        & NA                                                                                                                                                                                                                       \\\\\n",
       "\t mark-edmondson-public-read/Test-ga-model-twitter-upload-with-image/lib/crosstalk-1.0.0/js/crosstalk.js.map/1552658000704777                                                                                               & https://www.googleapis.com/storage/v1/b/mark-edmondson-public-read/o/Test-ga-model-twitter-upload-with-image\\%2Flib\\%2Fcrosstalk-1.0.0\\%2Fjs\\%2Fcrosstalk.js.map                                                      & Test-ga-model-twitter-upload-with-image/lib/crosstalk-1.0.0/js/crosstalk.js.map                                                                                                                                           & mark-edmondson-public-read                                                                                                                                                                                                & 1552658000704777                                                                                                                                                                                                          & 1                                                                                                                                                                                                                         & application/octet-stream                                                                                                                                                                                                  & 2019-03-15 13:53:20                                                                                                                                                                                                       & 2019-03-15 13:53:20                                                                                                                                                                                                       & REGIONAL                                                                                                                                                                                                                  & 2019-03-15T13:53:20.704Z                                                                                                                                                                                                  & 53.1 Kb                                                                                                                                                                                                                   & od47qHdhiqPR4D2CRc7xjw==                                                                                                                                                                                                  & https://www.googleapis.com/download/storage/v1/b/mark-edmondson-public-read/o/Test-ga-model-twitter-upload-with-image\\%2Flib\\%2Fcrosstalk-1.0.0\\%2Fjs\\%2Fcrosstalk.js.map?generation=1552658000704777\\&alt=media     & /VQ3Aw==                                                                                                                                                                                                                  & CInq2+SlhOECEAE=                                                                                                                                                                                                          & NA                                                                                                                                                                                                                        & NA                                                                                                                                                                                                                       \\\\\n",
       "\t mark-edmondson-public-read/Test-ga-model-twitter-upload-with-image/lib/crosstalk-1.0.0/js/crosstalk.min.js/1552658000930171                                                                                               & https://www.googleapis.com/storage/v1/b/mark-edmondson-public-read/o/Test-ga-model-twitter-upload-with-image\\%2Flib\\%2Fcrosstalk-1.0.0\\%2Fjs\\%2Fcrosstalk.min.js                                                      & Test-ga-model-twitter-upload-with-image/lib/crosstalk-1.0.0/js/crosstalk.min.js                                                                                                                                           & mark-edmondson-public-read                                                                                                                                                                                                & 1552658000930171                                                                                                                                                                                                          & 1                                                                                                                                                                                                                         & application/javascript                                                                                                                                                                                                    & 2019-03-15 13:53:20                                                                                                                                                                                                       & 2019-03-15 13:53:20                                                                                                                                                                                                       & REGIONAL                                                                                                                                                                                                                  & 2019-03-15T13:53:20.929Z                                                                                                                                                                                                  & 18.7 Kb                                                                                                                                                                                                                   & EW8bKZ05MSMDor4rWnrF2A==                                                                                                                                                                                                  & https://www.googleapis.com/download/storage/v1/b/mark-edmondson-public-read/o/Test-ga-model-twitter-upload-with-image\\%2Flib\\%2Fcrosstalk-1.0.0\\%2Fjs\\%2Fcrosstalk.min.js?generation=1552658000930171\\&alt=media     & JFMm1g==                                                                                                                                                                                                                  & CPvK6eSlhOECEAE=                                                                                                                                                                                                          & NA                                                                                                                                                                                                                        & NA                                                                                                                                                                                                                       \\\\\n",
       "\t mark-edmondson-public-read/Test-ga-model-twitter-upload-with-image/lib/crosstalk-1.0.0/js/crosstalk.min.js.map/1552658001195578                                                                                           & https://www.googleapis.com/storage/v1/b/mark-edmondson-public-read/o/Test-ga-model-twitter-upload-with-image\\%2Flib\\%2Fcrosstalk-1.0.0\\%2Fjs\\%2Fcrosstalk.min.js.map                                                  & Test-ga-model-twitter-upload-with-image/lib/crosstalk-1.0.0/js/crosstalk.min.js.map                                                                                                                                       & mark-edmondson-public-read                                                                                                                                                                                                & 1552658001195578                                                                                                                                                                                                          & 1                                                                                                                                                                                                                         & application/octet-stream                                                                                                                                                                                                  & 2019-03-15 13:53:21                                                                                                                                                                                                       & 2019-03-15 13:53:21                                                                                                                                                                                                       & REGIONAL                                                                                                                                                                                                                  & 2019-03-15T13:53:21.195Z                                                                                                                                                                                                  & 49.1 Kb                                                                                                                                                                                                                   & tdA/yG0cLf8Pb8osbxbD6Q==                                                                                                                                                                                                  & https://www.googleapis.com/download/storage/v1/b/mark-edmondson-public-read/o/Test-ga-model-twitter-upload-with-image\\%2Flib\\%2Fcrosstalk-1.0.0\\%2Fjs\\%2Fcrosstalk.min.js.map?generation=1552658001195578\\&alt=media & /mNV1w==                                                                                                                                                                                                                  & CLrk+eSlhOECEAE=                                                                                                                                                                                                          & NA                                                                                                                                                                                                                        & NA                                                                                                                                                                                                                       \\\\\n",
       "\\end{tabular}\n"
      ],
      "text/markdown": [
       "\n",
       "id | selfLink | name | bucket | generation | metageneration | contentType | timeCreated | updated | storageClass | timeStorageClassUpdated | size | md5Hash | mediaLink | crc32c | etag | componentCount | contentLanguage | \n",
       "|---|---|---|---|---|---|\n",
       "| mark-edmondson-public-read/Test-ga-model-twitter-upload-with-image.html/1552658000005912                                                                                                                        | https://www.googleapis.com/storage/v1/b/mark-edmondson-public-read/o/Test-ga-model-twitter-upload-with-image.html                                                                                               | Test-ga-model-twitter-upload-with-image.html                                                                                                                                                                    | mark-edmondson-public-read                                                                                                                                                                                      | 1552658000005912                                                                                                                                                                                                | 1                                                                                                                                                                                                               | text/html                                                                                                                                                                                                       | 2019-03-15 13:53:20                                                                                                                                                                                             | 2019-03-15 13:53:20                                                                                                                                                                                             | REGIONAL                                                                                                                                                                                                        | 2019-03-15T13:53:20.005Z                                                                                                                                                                                        | 64.2 Kb                                                                                                                                                                                                         | J9M1jmxLWPz+fslPHJLhqA==                                                                                                                                                                                        | https://www.googleapis.com/download/storage/v1/b/mark-edmondson-public-read/o/Test-ga-model-twitter-upload-with-image.html?generation=1552658000005912&alt=media                                                | ymiDOA==                                                                                                                                                                                                        | CJiWseSlhOECEAE=                                                                                                                                                                                                | NA                                                                                                                                                                                                              | NA                                                                                                                                                                                                              | \n",
       "| mark-edmondson-public-read/Test-ga-model-twitter-upload-with-image/lib/crosstalk-1.0.0/css/crosstalk.css/1552658000182375                                                                                       | https://www.googleapis.com/storage/v1/b/mark-edmondson-public-read/o/Test-ga-model-twitter-upload-with-image%2Flib%2Fcrosstalk-1.0.0%2Fcss%2Fcrosstalk.css                                                      | Test-ga-model-twitter-upload-with-image/lib/crosstalk-1.0.0/css/crosstalk.css                                                                                                                                   | mark-edmondson-public-read                                                                                                                                                                                      | 1552658000182375                                                                                                                                                                                                | 1                                                                                                                                                                                                               | text/css                                                                                                                                                                                                        | 2019-03-15 13:53:20                                                                                                                                                                                             | 2019-03-15 13:53:20                                                                                                                                                                                             | REGIONAL                                                                                                                                                                                                        | 2019-03-15T13:53:20.182Z                                                                                                                                                                                        | 784 bytes                                                                                                                                                                                                       | oDuKOjPrimnTegN0a6krTw==                                                                                                                                                                                        | https://www.googleapis.com/download/storage/v1/b/mark-edmondson-public-read/o/Test-ga-model-twitter-upload-with-image%2Flib%2Fcrosstalk-1.0.0%2Fcss%2Fcrosstalk.css?generation=1552658000182375&alt=media       | tLLBSg==                                                                                                                                                                                                        | COf4u+SlhOECEAE=                                                                                                                                                                                                | NA                                                                                                                                                                                                              | NA                                                                                                                                                                                                              | \n",
       "| mark-edmondson-public-read/Test-ga-model-twitter-upload-with-image/lib/crosstalk-1.0.0/js/crosstalk.js/1552658000439231                                                                                         | https://www.googleapis.com/storage/v1/b/mark-edmondson-public-read/o/Test-ga-model-twitter-upload-with-image%2Flib%2Fcrosstalk-1.0.0%2Fjs%2Fcrosstalk.js                                                        | Test-ga-model-twitter-upload-with-image/lib/crosstalk-1.0.0/js/crosstalk.js                                                                                                                                     | mark-edmondson-public-read                                                                                                                                                                                      | 1552658000439231                                                                                                                                                                                                | 1                                                                                                                                                                                                               | application/javascript                                                                                                                                                                                          | 2019-03-15 13:53:20                                                                                                                                                                                             | 2019-03-15 13:53:20                                                                                                                                                                                             | REGIONAL                                                                                                                                                                                                        | 2019-03-15T13:53:20.438Z                                                                                                                                                                                        | 47.9 Kb                                                                                                                                                                                                         | OaL1EkVrmMgk8SyFehGOpg==                                                                                                                                                                                        | https://www.googleapis.com/download/storage/v1/b/mark-edmondson-public-read/o/Test-ga-model-twitter-upload-with-image%2Flib%2Fcrosstalk-1.0.0%2Fjs%2Fcrosstalk.js?generation=1552658000439231&alt=media         | MqRW4A==                                                                                                                                                                                                        | CL/Py+SlhOECEAE=                                                                                                                                                                                                | NA                                                                                                                                                                                                              | NA                                                                                                                                                                                                              | \n",
       "| mark-edmondson-public-read/Test-ga-model-twitter-upload-with-image/lib/crosstalk-1.0.0/js/crosstalk.js.map/1552658000704777                                                                                     | https://www.googleapis.com/storage/v1/b/mark-edmondson-public-read/o/Test-ga-model-twitter-upload-with-image%2Flib%2Fcrosstalk-1.0.0%2Fjs%2Fcrosstalk.js.map                                                    | Test-ga-model-twitter-upload-with-image/lib/crosstalk-1.0.0/js/crosstalk.js.map                                                                                                                                 | mark-edmondson-public-read                                                                                                                                                                                      | 1552658000704777                                                                                                                                                                                                | 1                                                                                                                                                                                                               | application/octet-stream                                                                                                                                                                                        | 2019-03-15 13:53:20                                                                                                                                                                                             | 2019-03-15 13:53:20                                                                                                                                                                                             | REGIONAL                                                                                                                                                                                                        | 2019-03-15T13:53:20.704Z                                                                                                                                                                                        | 53.1 Kb                                                                                                                                                                                                         | od47qHdhiqPR4D2CRc7xjw==                                                                                                                                                                                        | https://www.googleapis.com/download/storage/v1/b/mark-edmondson-public-read/o/Test-ga-model-twitter-upload-with-image%2Flib%2Fcrosstalk-1.0.0%2Fjs%2Fcrosstalk.js.map?generation=1552658000704777&alt=media     | /VQ3Aw==                                                                                                                                                                                                        | CInq2+SlhOECEAE=                                                                                                                                                                                                | NA                                                                                                                                                                                                              | NA                                                                                                                                                                                                              | \n",
       "| mark-edmondson-public-read/Test-ga-model-twitter-upload-with-image/lib/crosstalk-1.0.0/js/crosstalk.min.js/1552658000930171                                                                                     | https://www.googleapis.com/storage/v1/b/mark-edmondson-public-read/o/Test-ga-model-twitter-upload-with-image%2Flib%2Fcrosstalk-1.0.0%2Fjs%2Fcrosstalk.min.js                                                    | Test-ga-model-twitter-upload-with-image/lib/crosstalk-1.0.0/js/crosstalk.min.js                                                                                                                                 | mark-edmondson-public-read                                                                                                                                                                                      | 1552658000930171                                                                                                                                                                                                | 1                                                                                                                                                                                                               | application/javascript                                                                                                                                                                                          | 2019-03-15 13:53:20                                                                                                                                                                                             | 2019-03-15 13:53:20                                                                                                                                                                                             | REGIONAL                                                                                                                                                                                                        | 2019-03-15T13:53:20.929Z                                                                                                                                                                                        | 18.7 Kb                                                                                                                                                                                                         | EW8bKZ05MSMDor4rWnrF2A==                                                                                                                                                                                        | https://www.googleapis.com/download/storage/v1/b/mark-edmondson-public-read/o/Test-ga-model-twitter-upload-with-image%2Flib%2Fcrosstalk-1.0.0%2Fjs%2Fcrosstalk.min.js?generation=1552658000930171&alt=media     | JFMm1g==                                                                                                                                                                                                        | CPvK6eSlhOECEAE=                                                                                                                                                                                                | NA                                                                                                                                                                                                              | NA                                                                                                                                                                                                              | \n",
       "| mark-edmondson-public-read/Test-ga-model-twitter-upload-with-image/lib/crosstalk-1.0.0/js/crosstalk.min.js.map/1552658001195578                                                                                 | https://www.googleapis.com/storage/v1/b/mark-edmondson-public-read/o/Test-ga-model-twitter-upload-with-image%2Flib%2Fcrosstalk-1.0.0%2Fjs%2Fcrosstalk.min.js.map                                                | Test-ga-model-twitter-upload-with-image/lib/crosstalk-1.0.0/js/crosstalk.min.js.map                                                                                                                             | mark-edmondson-public-read                                                                                                                                                                                      | 1552658001195578                                                                                                                                                                                                | 1                                                                                                                                                                                                               | application/octet-stream                                                                                                                                                                                        | 2019-03-15 13:53:21                                                                                                                                                                                             | 2019-03-15 13:53:21                                                                                                                                                                                             | REGIONAL                                                                                                                                                                                                        | 2019-03-15T13:53:21.195Z                                                                                                                                                                                        | 49.1 Kb                                                                                                                                                                                                         | tdA/yG0cLf8Pb8osbxbD6Q==                                                                                                                                                                                        | https://www.googleapis.com/download/storage/v1/b/mark-edmondson-public-read/o/Test-ga-model-twitter-upload-with-image%2Flib%2Fcrosstalk-1.0.0%2Fjs%2Fcrosstalk.min.js.map?generation=1552658001195578&alt=media | /mNV1w==                                                                                                                                                                                                        | CLrk+eSlhOECEAE=                                                                                                                                                                                                | NA                                                                                                                                                                                                              | NA                                                                                                                                                                                                              | \n",
       "\n",
       "\n"
      ],
      "text/plain": [
       "  id                                                                                                                             \n",
       "1 mark-edmondson-public-read/Test-ga-model-twitter-upload-with-image.html/1552658000005912                                       \n",
       "2 mark-edmondson-public-read/Test-ga-model-twitter-upload-with-image/lib/crosstalk-1.0.0/css/crosstalk.css/1552658000182375      \n",
       "3 mark-edmondson-public-read/Test-ga-model-twitter-upload-with-image/lib/crosstalk-1.0.0/js/crosstalk.js/1552658000439231        \n",
       "4 mark-edmondson-public-read/Test-ga-model-twitter-upload-with-image/lib/crosstalk-1.0.0/js/crosstalk.js.map/1552658000704777    \n",
       "5 mark-edmondson-public-read/Test-ga-model-twitter-upload-with-image/lib/crosstalk-1.0.0/js/crosstalk.min.js/1552658000930171    \n",
       "6 mark-edmondson-public-read/Test-ga-model-twitter-upload-with-image/lib/crosstalk-1.0.0/js/crosstalk.min.js.map/1552658001195578\n",
       "  selfLink                                                                                                                                                        \n",
       "1 https://www.googleapis.com/storage/v1/b/mark-edmondson-public-read/o/Test-ga-model-twitter-upload-with-image.html                                               \n",
       "2 https://www.googleapis.com/storage/v1/b/mark-edmondson-public-read/o/Test-ga-model-twitter-upload-with-image%2Flib%2Fcrosstalk-1.0.0%2Fcss%2Fcrosstalk.css      \n",
       "3 https://www.googleapis.com/storage/v1/b/mark-edmondson-public-read/o/Test-ga-model-twitter-upload-with-image%2Flib%2Fcrosstalk-1.0.0%2Fjs%2Fcrosstalk.js        \n",
       "4 https://www.googleapis.com/storage/v1/b/mark-edmondson-public-read/o/Test-ga-model-twitter-upload-with-image%2Flib%2Fcrosstalk-1.0.0%2Fjs%2Fcrosstalk.js.map    \n",
       "5 https://www.googleapis.com/storage/v1/b/mark-edmondson-public-read/o/Test-ga-model-twitter-upload-with-image%2Flib%2Fcrosstalk-1.0.0%2Fjs%2Fcrosstalk.min.js    \n",
       "6 https://www.googleapis.com/storage/v1/b/mark-edmondson-public-read/o/Test-ga-model-twitter-upload-with-image%2Flib%2Fcrosstalk-1.0.0%2Fjs%2Fcrosstalk.min.js.map\n",
       "  name                                                                               \n",
       "1 Test-ga-model-twitter-upload-with-image.html                                       \n",
       "2 Test-ga-model-twitter-upload-with-image/lib/crosstalk-1.0.0/css/crosstalk.css      \n",
       "3 Test-ga-model-twitter-upload-with-image/lib/crosstalk-1.0.0/js/crosstalk.js        \n",
       "4 Test-ga-model-twitter-upload-with-image/lib/crosstalk-1.0.0/js/crosstalk.js.map    \n",
       "5 Test-ga-model-twitter-upload-with-image/lib/crosstalk-1.0.0/js/crosstalk.min.js    \n",
       "6 Test-ga-model-twitter-upload-with-image/lib/crosstalk-1.0.0/js/crosstalk.min.js.map\n",
       "  bucket                     generation       metageneration\n",
       "1 mark-edmondson-public-read 1552658000005912 1             \n",
       "2 mark-edmondson-public-read 1552658000182375 1             \n",
       "3 mark-edmondson-public-read 1552658000439231 1             \n",
       "4 mark-edmondson-public-read 1552658000704777 1             \n",
       "5 mark-edmondson-public-read 1552658000930171 1             \n",
       "6 mark-edmondson-public-read 1552658001195578 1             \n",
       "  contentType              timeCreated         updated             storageClass\n",
       "1 text/html                2019-03-15 13:53:20 2019-03-15 13:53:20 REGIONAL    \n",
       "2 text/css                 2019-03-15 13:53:20 2019-03-15 13:53:20 REGIONAL    \n",
       "3 application/javascript   2019-03-15 13:53:20 2019-03-15 13:53:20 REGIONAL    \n",
       "4 application/octet-stream 2019-03-15 13:53:20 2019-03-15 13:53:20 REGIONAL    \n",
       "5 application/javascript   2019-03-15 13:53:20 2019-03-15 13:53:20 REGIONAL    \n",
       "6 application/octet-stream 2019-03-15 13:53:21 2019-03-15 13:53:21 REGIONAL    \n",
       "  timeStorageClassUpdated  size      md5Hash                 \n",
       "1 2019-03-15T13:53:20.005Z 64.2 Kb   J9M1jmxLWPz+fslPHJLhqA==\n",
       "2 2019-03-15T13:53:20.182Z 784 bytes oDuKOjPrimnTegN0a6krTw==\n",
       "3 2019-03-15T13:53:20.438Z 47.9 Kb   OaL1EkVrmMgk8SyFehGOpg==\n",
       "4 2019-03-15T13:53:20.704Z 53.1 Kb   od47qHdhiqPR4D2CRc7xjw==\n",
       "5 2019-03-15T13:53:20.929Z 18.7 Kb   EW8bKZ05MSMDor4rWnrF2A==\n",
       "6 2019-03-15T13:53:21.195Z 49.1 Kb   tdA/yG0cLf8Pb8osbxbD6Q==\n",
       "  mediaLink                                                                                                                                                                                                      \n",
       "1 https://www.googleapis.com/download/storage/v1/b/mark-edmondson-public-read/o/Test-ga-model-twitter-upload-with-image.html?generation=1552658000005912&alt=media                                               \n",
       "2 https://www.googleapis.com/download/storage/v1/b/mark-edmondson-public-read/o/Test-ga-model-twitter-upload-with-image%2Flib%2Fcrosstalk-1.0.0%2Fcss%2Fcrosstalk.css?generation=1552658000182375&alt=media      \n",
       "3 https://www.googleapis.com/download/storage/v1/b/mark-edmondson-public-read/o/Test-ga-model-twitter-upload-with-image%2Flib%2Fcrosstalk-1.0.0%2Fjs%2Fcrosstalk.js?generation=1552658000439231&alt=media        \n",
       "4 https://www.googleapis.com/download/storage/v1/b/mark-edmondson-public-read/o/Test-ga-model-twitter-upload-with-image%2Flib%2Fcrosstalk-1.0.0%2Fjs%2Fcrosstalk.js.map?generation=1552658000704777&alt=media    \n",
       "5 https://www.googleapis.com/download/storage/v1/b/mark-edmondson-public-read/o/Test-ga-model-twitter-upload-with-image%2Flib%2Fcrosstalk-1.0.0%2Fjs%2Fcrosstalk.min.js?generation=1552658000930171&alt=media    \n",
       "6 https://www.googleapis.com/download/storage/v1/b/mark-edmondson-public-read/o/Test-ga-model-twitter-upload-with-image%2Flib%2Fcrosstalk-1.0.0%2Fjs%2Fcrosstalk.min.js.map?generation=1552658001195578&alt=media\n",
       "  crc32c   etag             componentCount contentLanguage\n",
       "1 ymiDOA== CJiWseSlhOECEAE= NA             NA             \n",
       "2 tLLBSg== COf4u+SlhOECEAE= NA             NA             \n",
       "3 MqRW4A== CL/Py+SlhOECEAE= NA             NA             \n",
       "4 /VQ3Aw== CInq2+SlhOECEAE= NA             NA             \n",
       "5 JFMm1g== CPvK6eSlhOECEAE= NA             NA             \n",
       "6 /mNV1w== CLrk+eSlhOECEAE= NA             NA             "
      ]
     },
     "metadata": {},
     "output_type": "display_data"
    }
   ],
   "source": [
    "objs <- gcs_list_objects()\n",
    "head(objs)"
   ]
  },
  {
   "cell_type": "markdown",
   "metadata": {},
   "source": [
    "## Authentication with googleAnalyticsR\n",
    "\n",
    "Since `googleAnalyticsR` needs a personal user token, it can't use `googleAuthR::gar_gce_auth()`.  You can't also use `ga_auth()` as you would in a normal R desktop session as that requires an interactive browser to open. \n",
    "\n",
    "The suggested method then is to upload a token from your desktop session and then pass that into `ga_auth()` which will then authenticate using the client.id, scopes and secrets saved in the token you created offline."
   ]
  },
  {
   "cell_type": "code",
   "execution_count": 16,
   "metadata": {},
   "outputs": [
    {
     "data": {
      "text/html": [
       "<ol class=list-inline>\n",
       "\t<li>'bq.oauth'</li>\n",
       "\t<li>'gce.oauth'</li>\n",
       "\t<li>'gl.oauth'</li>\n",
       "\t<li>'googleAnalyticsR.httr-oauth'</li>\n",
       "\t<li>'googleAuthR.ipynb'</li>\n",
       "\t<li>'tutorials'</li>\n",
       "\t<li>'Untitled.ipynb'</li>\n",
       "</ol>\n"
      ],
      "text/latex": [
       "\\begin{enumerate*}\n",
       "\\item 'bq.oauth'\n",
       "\\item 'gce.oauth'\n",
       "\\item 'gl.oauth'\n",
       "\\item 'googleAnalyticsR.httr-oauth'\n",
       "\\item 'googleAuthR.ipynb'\n",
       "\\item 'tutorials'\n",
       "\\item 'Untitled.ipynb'\n",
       "\\end{enumerate*}\n"
      ],
      "text/markdown": [
       "1. 'bq.oauth'\n",
       "2. 'gce.oauth'\n",
       "3. 'gl.oauth'\n",
       "4. 'googleAnalyticsR.httr-oauth'\n",
       "5. 'googleAuthR.ipynb'\n",
       "6. 'tutorials'\n",
       "7. 'Untitled.ipynb'\n",
       "\n",
       "\n"
      ],
      "text/plain": [
       "[1] \"bq.oauth\"                    \"gce.oauth\"                  \n",
       "[3] \"gl.oauth\"                    \"googleAnalyticsR.httr-oauth\"\n",
       "[5] \"googleAuthR.ipynb\"           \"tutorials\"                  \n",
       "[7] \"Untitled.ipynb\"             "
      ]
     },
     "metadata": {},
     "output_type": "display_data"
    },
    {
     "name": "stderr",
     "output_type": "stream",
     "text": [
      "Token cache file: googleAnalyticsR.httr-oauth\n"
     ]
    }
   ],
   "source": [
    "# upload an auth file to the notebook root directory - in this case called googleAnalyticsR.oauth\n",
    "list.files()\n",
    "\n",
    "# load the library\n",
    "library(googleAnalyticsR)\n",
    "\n",
    "# authenticate using uploaded token\n",
    "ga_auth(\"googleAnalyticsR.httr-oauth\")"
   ]
  },
  {
   "cell_type": "code",
   "execution_count": 17,
   "metadata": {},
   "outputs": [
    {
     "data": {
      "text/html": [
       "<table>\n",
       "<thead><tr><th scope=col>accountId</th><th scope=col>accountName</th><th scope=col>internalWebPropertyId</th><th scope=col>level</th><th scope=col>websiteUrl</th><th scope=col>webPropertyId</th><th scope=col>webPropertyName</th><th scope=col>type</th><th scope=col>starred</th><th scope=col>viewId</th><th scope=col>viewName</th></tr></thead>\n",
       "<tbody>\n",
       "\t<tr><td>79301104                               </td><td>cloudyr                                </td><td>118427305                              </td><td>STANDARD                               </td><td>http://cloudyr.github.io               </td><td>UA-79301104-1                          </td><td>the cloudyr project                    </td><td>WEB                                    </td><td>NA                                     </td><td>123875646                              </td><td>All Web Site Data                      </td></tr>\n",
       "\t<tr><td>54516992                               </td><td>Demo Account                           </td><td>87479473                               </td><td>STANDARD                               </td><td>https://shop.googlemerchandisestore.com</td><td>UA-54516992-1                          </td><td>Google Merchandise Store               </td><td>WEB                                    </td><td>NA                                     </td><td>92320289                               </td><td>1 Master View                          </td></tr>\n",
       "\t<tr><td>54516992                               </td><td>Demo Account                           </td><td>87479473                               </td><td>STANDARD                               </td><td>https://shop.googlemerchandisestore.com</td><td>UA-54516992-1                          </td><td>Google Merchandise Store               </td><td>WEB                                    </td><td>NA                                     </td><td>92324711                               </td><td>2 Test View                            </td></tr>\n",
       "\t<tr><td>54516992                               </td><td>Demo Account                           </td><td>87479473                               </td><td>STANDARD                               </td><td>https://shop.googlemerchandisestore.com</td><td>UA-54516992-1                          </td><td>Google Merchandise Store               </td><td>WEB                                    </td><td>NA                                     </td><td>90822334                               </td><td>3 Raw Data View                        </td></tr>\n",
       "\t<tr><td>73050356                               </td><td>GDE Tracking                           </td><td>110873793                              </td><td>STANDARD                               </td><td>http://gde-websites.com                </td><td>UA-73050356-1                          </td><td>GDE Tracking                           </td><td>WEB                                    </td><td>NA                                     </td><td>115760903                              </td><td>Bot excluded                           </td></tr>\n",
       "\t<tr><td>73050356                               </td><td>GDE Tracking                           </td><td>110873793                              </td><td>STANDARD                               </td><td>http://gde-websites.com                </td><td>UA-73050356-1                          </td><td>GDE Tracking                           </td><td>WEB                                    </td><td>NA                                     </td><td>115751114                              </td><td>RAW DATA                               </td></tr>\n",
       "</tbody>\n",
       "</table>\n"
      ],
      "text/latex": [
       "\\begin{tabular}{r|lllllllllll}\n",
       " accountId & accountName & internalWebPropertyId & level & websiteUrl & webPropertyId & webPropertyName & type & starred & viewId & viewName\\\\\n",
       "\\hline\n",
       "\t 79301104                                & cloudyr                                 & 118427305                               & STANDARD                                & http://cloudyr.github.io                & UA-79301104-1                           & the cloudyr project                     & WEB                                     & NA                                      & 123875646                               & All Web Site Data                      \\\\\n",
       "\t 54516992                                & Demo Account                            & 87479473                                & STANDARD                                & https://shop.googlemerchandisestore.com & UA-54516992-1                           & Google Merchandise Store                & WEB                                     & NA                                      & 92320289                                & 1 Master View                          \\\\\n",
       "\t 54516992                                & Demo Account                            & 87479473                                & STANDARD                                & https://shop.googlemerchandisestore.com & UA-54516992-1                           & Google Merchandise Store                & WEB                                     & NA                                      & 92324711                                & 2 Test View                            \\\\\n",
       "\t 54516992                                & Demo Account                            & 87479473                                & STANDARD                                & https://shop.googlemerchandisestore.com & UA-54516992-1                           & Google Merchandise Store                & WEB                                     & NA                                      & 90822334                                & 3 Raw Data View                        \\\\\n",
       "\t 73050356                                & GDE Tracking                            & 110873793                               & STANDARD                                & http://gde-websites.com                 & UA-73050356-1                           & GDE Tracking                            & WEB                                     & NA                                      & 115760903                               & Bot excluded                           \\\\\n",
       "\t 73050356                                & GDE Tracking                            & 110873793                               & STANDARD                                & http://gde-websites.com                 & UA-73050356-1                           & GDE Tracking                            & WEB                                     & NA                                      & 115751114                               & RAW DATA                               \\\\\n",
       "\\end{tabular}\n"
      ],
      "text/markdown": [
       "\n",
       "accountId | accountName | internalWebPropertyId | level | websiteUrl | webPropertyId | webPropertyName | type | starred | viewId | viewName | \n",
       "|---|---|---|---|---|---|\n",
       "| 79301104                                | cloudyr                                 | 118427305                               | STANDARD                                | http://cloudyr.github.io                | UA-79301104-1                           | the cloudyr project                     | WEB                                     | NA                                      | 123875646                               | All Web Site Data                       | \n",
       "| 54516992                                | Demo Account                            | 87479473                                | STANDARD                                | https://shop.googlemerchandisestore.com | UA-54516992-1                           | Google Merchandise Store                | WEB                                     | NA                                      | 92320289                                | 1 Master View                           | \n",
       "| 54516992                                | Demo Account                            | 87479473                                | STANDARD                                | https://shop.googlemerchandisestore.com | UA-54516992-1                           | Google Merchandise Store                | WEB                                     | NA                                      | 92324711                                | 2 Test View                             | \n",
       "| 54516992                                | Demo Account                            | 87479473                                | STANDARD                                | https://shop.googlemerchandisestore.com | UA-54516992-1                           | Google Merchandise Store                | WEB                                     | NA                                      | 90822334                                | 3 Raw Data View                         | \n",
       "| 73050356                                | GDE Tracking                            | 110873793                               | STANDARD                                | http://gde-websites.com                 | UA-73050356-1                           | GDE Tracking                            | WEB                                     | NA                                      | 115760903                               | Bot excluded                            | \n",
       "| 73050356                                | GDE Tracking                            | 110873793                               | STANDARD                                | http://gde-websites.com                 | UA-73050356-1                           | GDE Tracking                            | WEB                                     | NA                                      | 115751114                               | RAW DATA                                | \n",
       "\n",
       "\n"
      ],
      "text/plain": [
       "  accountId accountName  internalWebPropertyId level   \n",
       "1 79301104  cloudyr      118427305             STANDARD\n",
       "2 54516992  Demo Account 87479473              STANDARD\n",
       "3 54516992  Demo Account 87479473              STANDARD\n",
       "4 54516992  Demo Account 87479473              STANDARD\n",
       "5 73050356  GDE Tracking 110873793             STANDARD\n",
       "6 73050356  GDE Tracking 110873793             STANDARD\n",
       "  websiteUrl                              webPropertyId\n",
       "1 http://cloudyr.github.io                UA-79301104-1\n",
       "2 https://shop.googlemerchandisestore.com UA-54516992-1\n",
       "3 https://shop.googlemerchandisestore.com UA-54516992-1\n",
       "4 https://shop.googlemerchandisestore.com UA-54516992-1\n",
       "5 http://gde-websites.com                 UA-73050356-1\n",
       "6 http://gde-websites.com                 UA-73050356-1\n",
       "  webPropertyName          type starred viewId    viewName         \n",
       "1 the cloudyr project      WEB  NA      123875646 All Web Site Data\n",
       "2 Google Merchandise Store WEB  NA      92320289  1 Master View    \n",
       "3 Google Merchandise Store WEB  NA      92324711  2 Test View      \n",
       "4 Google Merchandise Store WEB  NA      90822334  3 Raw Data View  \n",
       "5 GDE Tracking             WEB  NA      115760903 Bot excluded     \n",
       "6 GDE Tracking             WEB  NA      115751114 RAW DATA         "
      ]
     },
     "metadata": {},
     "output_type": "display_data"
    }
   ],
   "source": [
    "# can now list accounts, get data etc.\n",
    "accs <- ga_account_list()\n",
    "head(accs)"
   ]
  },
  {
   "cell_type": "code",
   "execution_count": 10,
   "metadata": {},
   "outputs": [
    {
     "name": "stderr",
     "output_type": "stream",
     "text": [
      "2019-06-07 19:07:15> Downloaded [84] rows from a total of [84].\n"
     ]
    },
    {
     "data": {
      "text/html": [
       "<table>\n",
       "<thead><tr><th scope=col>source</th><th scope=col>sessions</th></tr></thead>\n",
       "<tbody>\n",
       "\t<tr><td>google            </td><td>5482              </td></tr>\n",
       "\t<tr><td>(direct)          </td><td>1615              </td></tr>\n",
       "\t<tr><td>t.co              </td><td> 181              </td></tr>\n",
       "\t<tr><td>github.com        </td><td> 113              </td></tr>\n",
       "\t<tr><td>cran.r-project.org</td><td>  48              </td></tr>\n",
       "\t<tr><td>shinyapps         </td><td>  45              </td></tr>\n",
       "</tbody>\n",
       "</table>\n"
      ],
      "text/latex": [
       "\\begin{tabular}{r|ll}\n",
       " source & sessions\\\\\n",
       "\\hline\n",
       "\t google             & 5482              \\\\\n",
       "\t (direct)           & 1615              \\\\\n",
       "\t t.co               &  181              \\\\\n",
       "\t github.com         &  113              \\\\\n",
       "\t cran.r-project.org &   48              \\\\\n",
       "\t shinyapps          &   45              \\\\\n",
       "\\end{tabular}\n"
      ],
      "text/markdown": [
       "\n",
       "source | sessions | \n",
       "|---|---|---|---|---|---|\n",
       "| google             | 5482               | \n",
       "| (direct)           | 1615               | \n",
       "| t.co               |  181               | \n",
       "| github.com         |  113               | \n",
       "| cran.r-project.org |   48               | \n",
       "| shinyapps          |   45               | \n",
       "\n",
       "\n"
      ],
      "text/plain": [
       "  source             sessions\n",
       "1 google             5482    \n",
       "2 (direct)           1615    \n",
       "3 t.co                181    \n",
       "4 github.com          113    \n",
       "5 cran.r-project.org   48    \n",
       "6 shinyapps            45    "
      ]
     },
     "metadata": {},
     "output_type": "display_data"
    }
   ],
   "source": [
    "gadata <- google_analytics(81416156, date_range = c(\"30daysAgo\", \"yesterday\"), metrics = \"sessions\", dimensions = \"source\", order = order_type(\"sessions\", \"DESCENDING\", \"VALUE\"))\n",
    "head(gadata)"
   ]
  },
  {
   "cell_type": "markdown",
   "metadata": {},
   "source": [
    "## Installing other packages\n",
    "\n",
    "The package versions that come with the R kernal are older than currently available, and you may also want to install other packages like `bigQueryR`, `googleLanguageR` or otherwise.  To do so, you can install via CRAN:"
   ]
  },
  {
   "cell_type": "code",
   "execution_count": 11,
   "metadata": {},
   "outputs": [
    {
     "name": "stderr",
     "output_type": "stream",
     "text": [
      "Updating HTML index of packages in '.Library'\n",
      "Making 'packages.html' ... done\n"
     ]
    }
   ],
   "source": [
    "# install CRAN packages and remotes to help install GitHub versions\n",
    "install.packages(c(\"googleLanguageR\", \"bigQueryR\"))"
   ]
  },
  {
   "cell_type": "code",
   "execution_count": 12,
   "metadata": {},
   "outputs": [
    {
     "name": "stderr",
     "output_type": "stream",
     "text": [
      "2019-06-07 19:07:24> No environment argument found, looked in GL_AUTH\n",
      "Adding gl.oauth to .gitignore\n",
      "Token cache file: gl.oauth\n",
      "Warning message:\n",
      "“Token has different options() than currently set.”"
     ]
    }
   ],
   "source": [
    "# authentication can be done in same way as googleComputeEngineR and googleCloudStorageR\n",
    "library(googleLanguageR)\n",
    "options(\"googleAuthR.httr_oauth_cache\" = \"gl.oauth\")\n",
    "googleAuthR::gar_gce_auth()"
   ]
  },
  {
   "cell_type": "code",
   "execution_count": 13,
   "metadata": {},
   "outputs": [
    {
     "name": "stderr",
     "output_type": "stream",
     "text": [
      "2019-06-07 19:07:24 -- Translating text: 36 characters - \n"
     ]
    },
    {
     "data": {
      "text/html": [
       "<table>\n",
       "<thead><tr><th scope=col>translatedText</th><th scope=col>detectedSourceLanguage</th><th scope=col>text</th></tr></thead>\n",
       "<tbody>\n",
       "\t<tr><td>Et c’est comme ça que vous utilisez R sur Jupyter</td><td>en                                               </td><td>And that is how you use R on Jupyter             </td></tr>\n",
       "</tbody>\n",
       "</table>\n"
      ],
      "text/latex": [
       "\\begin{tabular}{r|lll}\n",
       " translatedText & detectedSourceLanguage & text\\\\\n",
       "\\hline\n",
       "\t Et c’est comme ça que vous utilisez R sur Jupyter & en                                                & And that is how you use R on Jupyter             \\\\\n",
       "\\end{tabular}\n"
      ],
      "text/markdown": [
       "\n",
       "translatedText | detectedSourceLanguage | text | \n",
       "|---|\n",
       "| Et c’est comme ça que vous utilisez R sur Jupyter | en                                                | And that is how you use R on Jupyter              | \n",
       "\n",
       "\n"
      ],
      "text/plain": [
       "  translatedText                                    detectedSourceLanguage\n",
       "1 Et c’est comme ça que vous utilisez R sur Jupyter en                    \n",
       "  text                                \n",
       "1 And that is how you use R on Jupyter"
      ]
     },
     "metadata": {},
     "output_type": "display_data"
    }
   ],
   "source": [
    "gl_translate(\"And that is how you use R on Jupyter\", target = \"fr\")"
   ]
  },
  {
   "cell_type": "markdown",
   "metadata": {},
   "source": [
    "### Installing from GitHub\n",
    "\n",
    "It doesn't currently seem possible to install via `remotes::install_github()` and similar, which seems to be a bug. "
   ]
  },
  {
   "cell_type": "code",
   "execution_count": 18,
   "metadata": {},
   "outputs": [
    {
     "name": "stderr",
     "output_type": "stream",
     "text": [
      "Downloading GitHub repo cloudyr/bigQueryR@master\n",
      "Warning message in i.p(...):\n",
      "“installation of package ‘/tmp/RtmpN5VsfL/remotes152b6b42858/cloudyr-bigQueryR-74cfb40’ had non-zero exit status”"
     ]
    }
   ],
   "source": [
    "install.packages(\"remotes\")\n",
    "remotes::install_github(\"cloudyr/bigQueryR\")"
   ]
  },
  {
   "cell_type": "code",
   "execution_count": null,
   "metadata": {},
   "outputs": [],
   "source": []
  }
 ],
 "metadata": {
  "kernelspec": {
   "display_name": "R",
   "language": "R",
   "name": "ir"
  },
  "language_info": {
   "codemirror_mode": "r",
   "file_extension": ".r",
   "mimetype": "text/x-r-source",
   "name": "R",
   "pygments_lexer": "r",
   "version": "3.5.1"
  }
 },
 "nbformat": 4,
 "nbformat_minor": 2
}
